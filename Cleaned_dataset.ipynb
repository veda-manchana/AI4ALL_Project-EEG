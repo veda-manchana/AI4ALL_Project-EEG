{
  "nbformat": 4,
  "nbformat_minor": 0,
  "metadata": {
    "colab": {
      "provenance": []
    },
    "kernelspec": {
      "name": "python3",
      "display_name": "Python 3"
    },
    "language_info": {
      "name": "python"
    }
  },
  "cells": [
    {
      "cell_type": "code",
      "source": [
        "from google.colab import drive\n",
        "drive.mount('/content/drive')"
      ],
      "metadata": {
        "id": "AZOcS5QX_zam",
        "colab": {
          "base_uri": "https://localhost:8080/"
        },
        "outputId": "50642047-07a3-4c34-ef06-f1da7d002a05"
      },
      "execution_count": null,
      "outputs": [
        {
          "output_type": "stream",
          "name": "stdout",
          "text": [
            "Mounted at /content/drive\n"
          ]
        }
      ]
    },
    {
      "cell_type": "code",
      "source": [
        "import os\n",
        "import pandas as pd\n",
        "\n",
        "# Path to original folder\n",
        "folder_path = \"/content/drive/My Drive/AI4ALL PROJECT/GAMEEMO\"\n",
        "\n",
        "# Path to save cleaned files\n",
        "clean_folder = \"/content/drive/My Drive/AI4ALL PROJECT/CLEANED\"\n",
        "os.makedirs(clean_folder, exist_ok=True)  # Create if it doesn't exist\n",
        "\n",
        "subfolders = os.listdir(folder_path)\n",
        "\n",
        "for subfolder in subfolders:\n",
        "    subfolder_path = os.path.join(folder_path, subfolder)\n",
        "\n",
        "    if not os.path.isdir(subfolder_path):\n",
        "        continue\n",
        "\n",
        "    for file in os.listdir(subfolder_path):\n",
        "        if file.endswith('.csv'):\n",
        "            file_path = os.path.join(subfolder_path, file)\n",
        "\n",
        "            try:\n",
        "                # Load CSV\n",
        "                df = pd.read_csv(file_path)\n",
        "\n",
        "                # === CLEANING START ===\n",
        "                df = df.dropna(axis=1, how='all')  # Drop all-null columns\n",
        "                df = df.drop(columns=[col for col in df.columns if col.startswith('Unnamed')], errors='ignore')\n",
        "                df = df.dropna()  # Drop rows with any nulls\n",
        "                # === CLEANING END ===\n",
        "\n",
        "                # === SAVE CLEANED FILE ===\n",
        "                cleaned_filename = f\"cleaned_{file}\"\n",
        "                save_path = os.path.join(clean_folder, cleaned_filename)\n",
        "                df.to_csv(save_path, index=False)\n",
        "\n",
        "            except Exception as e:\n",
        "                print(f\"Error processing {file}: {e}\")\n"
      ],
      "metadata": {
        "id": "SRj40kyv64-6"
      },
      "execution_count": null,
      "outputs": []
    },
    {
      "cell_type": "code",
      "source": [
        "import os\n",
        "import pandas as pd\n",
        "import re\n",
        "\n",
        "# Define brain region channel groups\n",
        "brain_regions = {\n",
        "    \"Frontal\": ['AF3', 'AF4', 'F3', 'F4', 'F7', 'F8'],\n",
        "    \"Temporal\": ['T7', 'T8'],\n",
        "    \"Parietal\": ['P7', 'P8'],\n",
        "    \"Occipital\": ['O1', 'O2'],\n",
        "    \"Fronto-central\": ['FC5', 'FC6']\n",
        "}\n",
        "\n",
        "# Path to original folder\n",
        "folder_path = \"/content/drive/My Drive/AI4ALL PROJECT/CLEANED\"\n",
        "\n",
        "for file in os.listdir(folder_path):\n",
        "    if file.endswith('.csv'):\n",
        "        file_path = os.path.join(folder_path, file)\n",
        "        df = pd.read_csv(file_path)\n",
        "\n",
        "        # Extract participant and game IDs from filename\n",
        "        match = re.search(r'(S\\d+)_?(G\\d+)', file)\n",
        "        if match:\n",
        "            participant = match.group(1)\n",
        "            game = match.group(2)\n",
        "        else:\n",
        "            participant = \"Unknown\"\n",
        "            game = \"Unknown\"\n",
        "\n",
        "        # Add regional averages to df\n",
        "        for region in brain_regions:\n",
        "            channels = brain_regions[region]\n",
        "            available_channels = []\n",
        "            for ch in channels:\n",
        "                if ch in df.columns:\n",
        "                    available_channels.append(ch)\n",
        "            if available_channels:\n",
        "                df[region] = df[available_channels].mean(axis=1)\n",
        "\n",
        "        # Add ID columns\n",
        "        df['Participant'] = participant\n",
        "        df['Game'] = game\n",
        "\n",
        "        # Overwrite the original file OR save to a new one\n",
        "        df.to_csv(file_path, index=False)  # ← saves updated df\n",
        "\n",
        "        print(f\"{file} updated and saved.\")\n"
      ],
      "metadata": {
        "id": "yUfv5YCzJX6C"
      },
      "execution_count": null,
      "outputs": []
    },
    {
      "cell_type": "code",
      "source": [
        "import os\n",
        "import pandas as pd\n",
        "\n",
        "# Step 1: Load Google Sheet\n",
        "sheet_id = \"1lse2fQnwI-cZrOQcE2iWBCxMI94L3Mc41fyNmUVbVhU\"\n",
        "sheet_url = f\"https://docs.google.com/spreadsheets/d/{sheet_id}/export?format=csv\"\n",
        "label_df = pd.read_csv(sheet_url)\n",
        "\n",
        "# Step 2: Normalize filenames to match EEG CSV files\n",
        "def normalize_filename(pdf_name):\n",
        "    return pdf_name.replace('(', '').replace(')', '').replace('.pdf', '.csv')\n",
        "\n",
        "label_df['normalized'] = label_df['pdf_file'].apply(normalize_filename)\n",
        "\n",
        "# Step 3: Columns to keep\n",
        "rating_cols = ['satisfaction', 'boredom', 'horrible', 'calm', 'funny', 'gender']\n",
        "\n",
        "# Step 4: Normalize rating columns per subject (based on first 3 chars: S01, S02, etc.)\n",
        "rating_value_cols = ['satisfaction', 'boredom', 'horrible', 'calm', 'funny']\n",
        "label_df[rating_value_cols] = label_df.groupby(label_df['pdf_file'].str[:3])[rating_value_cols].transform(\n",
        "    lambda x: (x - x.mean()) / x.std()\n",
        ")\n",
        "\n",
        "# Step 5: Create mapping from file to ratings\n",
        "rating_mapping = label_df.set_index('normalized')[rating_cols].to_dict(orient='index')\n",
        "\n",
        "# Step 6: Folder with cleaned EEG CSVs\n",
        "clean_folder = \"/content/drive/My Drive/AI4ALL PROJECT/CLEANED\"\n",
        "\n",
        "# Step 7: Add ratings + gender into each EEG CSV, remove duplicates and 'dominant_emotion'\n",
        "for file in os.listdir(clean_folder):\n",
        "    if file.endswith('.csv'):\n",
        "        file_path = os.path.join(clean_folder, file)\n",
        "\n",
        "        try:\n",
        "            df = pd.read_csv(file_path)\n",
        "\n",
        "            # Remove dominant_emotion if exists\n",
        "            if 'dominant_emotion' in df.columns:\n",
        "                df = df.drop(columns=['dominant_emotion'])\n",
        "\n",
        "            # Match and add ratings\n",
        "            if file in rating_mapping:\n",
        "                for col in rating_cols:\n",
        "                    df[col] = rating_mapping[file][col]\n",
        "\n",
        "            # Remove duplicate columns by name\n",
        "            df = df.loc[:, ~df.columns.duplicated()]\n",
        "\n",
        "            df.to_csv(file_path, index=False)\n",
        "\n",
        "        except Exception as e:\n",
        "            print(f\"Error processing {file}: {e}\")\n"
      ],
      "metadata": {
        "id": "t86M7aCmJOMq"
      },
      "execution_count": null,
      "outputs": []
    }
  ]
}